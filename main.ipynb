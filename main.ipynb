{
 "cells": [
  {
   "cell_type": "code",
   "execution_count": 1,
   "metadata": {},
   "outputs": [],
   "source": [
    "import pandas as pd\n",
    "import numpy as np\n",
    "import os\n",
    "import matplotlib.pyplot as plt\n",
    "from sklearn.decomposition import PCA\n"
   ]
  },
  {
   "cell_type": "markdown",
   "metadata": {},
   "source": [
    "#### General View"
   ]
  },
  {
   "cell_type": "code",
   "execution_count": 2,
   "metadata": {},
   "outputs": [
    {
     "name": "stdout",
     "output_type": "stream",
     "text": [
      "data dimensions  (1453, 15)\n",
      "yummy\n",
      "convenient\n",
      "spicy\n",
      "fattening\n",
      "greasy\n",
      "fast\n",
      "cheap\n",
      "tasty\n",
      "expensive\n",
      "healthy\n",
      "disgusting\n",
      "Like\n",
      "Age\n",
      "VisitFrequency\n",
      "Gender\n"
     ]
    }
   ],
   "source": [
    "df  = pd.read_csv('./mcdonalds.csv')\n",
    "print('data dimensions ',df.shape)\n",
    "\n",
    "for i in df:\n",
    "    print(i)"
   ]
  },
  {
   "cell_type": "code",
   "execution_count": 3,
   "metadata": {},
   "outputs": [
    {
     "name": "stdout",
     "output_type": "stream",
     "text": [
      "  yummy convenient spicy fattening greasy fast cheap tasty expensive healthy  \\\n",
      "0    No        Yes    No       Yes     No  Yes   Yes    No       Yes      No   \n",
      "1   Yes        Yes    No       Yes    Yes  Yes   Yes   Yes       Yes      No   \n",
      "2    No        Yes   Yes       Yes    Yes  Yes    No   Yes       Yes     Yes   \n",
      "3   Yes        Yes    No       Yes    Yes  Yes   Yes   Yes        No      No   \n",
      "4    No        Yes    No       Yes    Yes  Yes   Yes    No        No     Yes   \n",
      "\n",
      "  disgusting Like  Age      VisitFrequency  Gender  \n",
      "0         No   -3   61  Every three months  Female  \n",
      "1         No   +2   51  Every three months  Female  \n",
      "2         No   +1   62  Every three months  Female  \n",
      "3        Yes   +4   69         Once a week  Female  \n",
      "4         No   +2   49        Once a month    Male  \n"
     ]
    }
   ],
   "source": [
    "print(df.head())"
   ]
  },
  {
   "cell_type": "markdown",
   "metadata": {},
   "source": [
    "#### Check nan values"
   ]
  },
  {
   "cell_type": "code",
   "execution_count": 4,
   "metadata": {},
   "outputs": [
    {
     "name": "stdout",
     "output_type": "stream",
     "text": [
      "nan values yummy             0\n",
      "convenient        0\n",
      "spicy             0\n",
      "fattening         0\n",
      "greasy            0\n",
      "fast              0\n",
      "cheap             0\n",
      "tasty             0\n",
      "expensive         0\n",
      "healthy           0\n",
      "disgusting        0\n",
      "Like              0\n",
      "Age               0\n",
      "VisitFrequency    0\n",
      "Gender            0\n",
      "dtype: int64\n"
     ]
    }
   ],
   "source": [
    "num_na = df.isna().sum()\n",
    "print('nan values',num_na)"
   ]
  },
  {
   "cell_type": "markdown",
   "metadata": {},
   "source": [
    "#### Check unique values"
   ]
  },
  {
   "cell_type": "code",
   "execution_count": 5,
   "metadata": {},
   "outputs": [
    {
     "name": "stdout",
     "output_type": "stream",
     "text": [
      "yummy  ----  ['No' 'Yes']\n",
      "convenient  ----  ['Yes' 'No']\n",
      "spicy  ----  ['No' 'Yes']\n",
      "fattening  ----  ['Yes' 'No']\n",
      "greasy  ----  ['No' 'Yes']\n",
      "fast  ----  ['Yes' 'No']\n",
      "cheap  ----  ['Yes' 'No']\n",
      "tasty  ----  ['No' 'Yes']\n",
      "expensive  ----  ['Yes' 'No']\n",
      "healthy  ----  ['No' 'Yes']\n",
      "disgusting  ----  ['No' 'Yes']\n",
      "Like  ----  ['-3' '+2' '+1' '+4' 'I love it!+5' 'I hate it!-5' '-2' '+3' '0' '-4' '-1']\n",
      "Age  ----  [61 51 62 69 49 55 56 23 58 32 53 28 65 54 67 34 31 47 37 41 36 50 39 35\n",
      " 20 24 44 40 48 38 57 60 66 42 26 52 29 25 22 45 18 68 43 21 27 33 63 46\n",
      " 59 19 64 70 30 71]\n",
      "VisitFrequency  ----  ['Every three months' 'Once a week' 'Once a month' 'Once a year'\n",
      " 'More than once a week' 'Never']\n",
      "Gender  ----  ['Female' 'Male']\n"
     ]
    }
   ],
   "source": [
    "def check_unique():\n",
    "    for i in df:\n",
    "        print(i,' ---- ', df[i].unique())\n",
    "\n",
    "check_unique()"
   ]
  },
  {
   "cell_type": "code",
   "execution_count": 6,
   "metadata": {},
   "outputs": [
    {
     "name": "stdout",
     "output_type": "stream",
     "text": [
      "Like ---  ['-3' '+2' '+1' '+4' '+5' '-5' '-2' '+3' '0' '-4' '-1']\n"
     ]
    }
   ],
   "source": [
    "df['Like'] = df['Like'].replace('I love it!+5','+5')\n",
    "df['Like'] = df['Like'].replace('I hate it!-5','-5')\n",
    "print('Like --- ', df['Like'].unique())"
   ]
  },
  {
   "cell_type": "markdown",
   "metadata": {},
   "source": [
    "#### Convert categorical to numerical\n",
    "Binary columns here are column who recieved answer as a yes or no.\n"
   ]
  },
  {
   "cell_type": "code",
   "execution_count": 7,
   "metadata": {},
   "outputs": [
    {
     "name": "stdout",
     "output_type": "stream",
     "text": [
      "yummy  ----  [0 1]\n",
      "convenient  ----  [1 0]\n",
      "spicy  ----  [0 1]\n",
      "fattening  ----  [1 0]\n",
      "greasy  ----  [0 1]\n",
      "fast  ----  [1 0]\n",
      "cheap  ----  [1 0]\n",
      "tasty  ----  [0 1]\n",
      "expensive  ----  [1 0]\n",
      "healthy  ----  [0 1]\n",
      "disgusting  ----  [0 1]\n",
      "Like  ----  ['-3' '+2' '+1' '+4' '+5' '-5' '-2' '+3' '0' '-4' '-1']\n",
      "Age  ----  [61 51 62 69 49 55 56 23 58 32 53 28 65 54 67 34 31 47 37 41 36 50 39 35\n",
      " 20 24 44 40 48 38 57 60 66 42 26 52 29 25 22 45 18 68 43 21 27 33 63 46\n",
      " 59 19 64 70 30 71]\n",
      "VisitFrequency  ----  ['Every three months' 'Once a week' 'Once a month' 'Once a year'\n",
      " 'More than once a week' 'Never']\n",
      "Gender  ----  [0 1]\n"
     ]
    }
   ],
   "source": [
    "binary_columnns = [\n",
    "    \"yummy\",\n",
    "    \"convenient\",\n",
    "    \"spicy\",\n",
    "    \"fattening\",\n",
    "    \"greasy\",\n",
    "    \"fast\",\n",
    "    \"cheap\",\n",
    "    \"tasty\",\n",
    "    \"expensive\",\n",
    "    \"healthy\",\n",
    "    \"disgusting\",\n",
    "]\n",
    "for col in binary_columnns:\n",
    "    df[col] = df[col].replace({'Yes':1, 'No':0})\n",
    "\n",
    "df['Gender'] = df['Gender'].replace({'Male':1,'Female':0})\n",
    "check_unique()"
   ]
  },
  {
   "cell_type": "code",
   "execution_count": 8,
   "metadata": {},
   "outputs": [
    {
     "name": "stdout",
     "output_type": "stream",
     "text": [
      "Mean values of all the binary columns\n",
      "yummy          0.552650\n",
      "convenient     0.907777\n",
      "spicy          0.093599\n",
      "fattening      0.867171\n",
      "greasy         0.526497\n",
      "fast           0.900206\n",
      "cheap          0.598761\n",
      "tasty          0.644184\n",
      "expensive      0.357880\n",
      "healthy        0.198899\n",
      "disgusting     0.242946\n",
      "Age           44.604955\n",
      "Gender         0.457674\n",
      "dtype: float64\n"
     ]
    },
    {
     "name": "stderr",
     "output_type": "stream",
     "text": [
      "C:\\Users\\as116\\AppData\\Local\\Temp/ipykernel_16040/168820505.py:2: FutureWarning: Dropping of nuisance columns in DataFrame reductions (with 'numeric_only=None') is deprecated; in a future version this will raise TypeError.  Select only valid columns before calling the reduction.\n",
      "  print(df.mean())\n"
     ]
    }
   ],
   "source": [
    "print('Mean values of all the binary columns')\n",
    "print(df.mean())"
   ]
  },
  {
   "cell_type": "code",
   "execution_count": 9,
   "metadata": {},
   "outputs": [
    {
     "name": "stdout",
     "output_type": "stream",
     "text": [
      "   yummy  convenient  spicy  fattening  greasy  fast  cheap  tasty  expensive  \\\n",
      "0      0           1      0          1       0     1      1      0          1   \n",
      "1      1           1      0          1       1     1      1      1          1   \n",
      "2      0           1      1          1       1     1      0      1          1   \n",
      "3      1           1      0          1       1     1      1      1          0   \n",
      "4      0           1      0          1       1     1      1      0          0   \n",
      "\n",
      "   healthy  disgusting  \n",
      "0        0           0  \n",
      "1        0           0  \n",
      "2        1           0  \n",
      "3        0           1  \n",
      "4        1           0  \n"
     ]
    }
   ],
   "source": [
    "segment_df = df[binary_columnns]\n",
    "# segment_df['Age'] = (df['Age'] - df['Age'].mean())/(df['Age'].std())\n",
    "print(segment_df.head())"
   ]
  },
  {
   "cell_type": "markdown",
   "metadata": {},
   "source": [
    "### Principle Component Analysis"
   ]
  },
  {
   "cell_type": "code",
   "execution_count": 10,
   "metadata": {},
   "outputs": [
    {
     "name": "stdout",
     "output_type": "stream",
     "text": [
      "Explained Variance Ratio by PCs  [0.29944723 0.19279721 0.13304535 0.08309578 0.05948052 0.05029956\n",
      " 0.0438491  0.03954779 0.0367609  0.03235329 0.02932326]\n"
     ]
    }
   ],
   "source": [
    "pca = PCA(n_components=11)\n",
    "pca.fit(segment_df)\n",
    "print('Explained Variance Ratio by PCs ',pca.explained_variance_ratio_)"
   ]
  },
  {
   "cell_type": "code",
   "execution_count": 11,
   "metadata": {},
   "outputs": [
    {
     "name": "stdout",
     "output_type": "stream",
     "text": [
      "plot components shape is  (2, 11)\n",
      "plot component values  [[-0.47693349 -0.15533159 -0.00635636  0.11623168  0.3044427  -0.10849325\n",
      "  -0.33718593 -0.47151394  0.32904173 -0.21371062  0.37475293]\n",
      " [ 0.36378978  0.016414    0.01880869 -0.03409395 -0.06383884 -0.0869722\n",
      "  -0.61063276  0.3073178   0.60128596  0.07659344 -0.13965633]]\n"
     ]
    }
   ],
   "source": [
    "out = pca.transform(segment_df)\n",
    "plot_data = out[:,0:2]\n",
    "components = pca.components_\n",
    "# print('components type is ', type(components))\n",
    "# print('components shape is ', components.shape)\n",
    "# print(components)\n",
    "plot_components = components[0:2,:]\n",
    "print('plot components shape is ', plot_components.shape)\n",
    "print('plot component values ',plot_components)\n"
   ]
  },
  {
   "cell_type": "code",
   "execution_count": 12,
   "metadata": {},
   "outputs": [
    {
     "data": {
      "text/plain": [
       "Text(0, 0.5, 'PC2')"
      ]
     },
     "execution_count": 12,
     "metadata": {},
     "output_type": "execute_result"
    },
    {
     "data": {
      "image/png": "[encoded data removed]",
      "text/plain": [
       "<Figure size 432x288 with 1 Axes>"
      ]
     },
     "metadata": {
      "needs_background": "light"
     },
     "output_type": "display_data"
    }
   ],
   "source": [
    "plt.scatter(plot_data[:,0],plot_data[:,1],s=2, marker='o')\n",
    "for i in range(11):\n",
    "    plt.plot([0,plot_components[0,i]],[0,plot_components[1,i]], label=binary_columnns[i])\n",
    "plt.legend()\n",
    "plt.xlabel('PC1')\n",
    "plt.ylabel('PC2')"
   ]
  },
  {
   "cell_type": "code",
   "execution_count": null,
   "metadata": {},
   "outputs": [],
   "source": []
  }
 ],
 "metadata": {
  "kernelspec": {
   "display_name": "Python 3 (ipykernel)",
   "language": "python",
   "name": "python3"
  },
  "language_info": {
   "codemirror_mode": {
    "name": "ipython",
    "version": 3
   },
   "file_extension": ".py",
   "mimetype": "text/x-python",
   "name": "python",
   "nbconvert_exporter": "python",
   "pygments_lexer": "ipython3",
   "version": "3.9.12"
  },
  "orig_nbformat": 4
 },
 "nbformat": 4,
 "nbformat_minor": 2
}
